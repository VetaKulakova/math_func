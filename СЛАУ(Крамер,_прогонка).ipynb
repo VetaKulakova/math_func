{
 "cells": [
  {
   "cell_type": "markdown",
   "metadata": {
    "id": "f0VrSe3ICb9q"
   },
   "source": [
    "## Решение СЛАУ"
   ]
  },
  {
   "cell_type": "markdown",
   "metadata": {
    "id": "waY465MUCoJS"
   },
   "source": [
    "1. Сгенерировать вектор b(3) и хорошо обусловленную матрицу А(3,3)так, чтобы получить заданное решение."
   ]
  },
  {
   "cell_type": "code",
   "execution_count": 3,
   "metadata": {
    "id": "dN_M4fXIglc8"
   },
   "outputs": [],
   "source": [
    "import numpy as np # библиотека для работы с массивами"
   ]
  },
  {
   "cell_type": "code",
   "execution_count": 4,
   "metadata": {
    "id": "PyNKrN5Jeym_"
   },
   "outputs": [],
   "source": [
    "a = np.array([[2,-4,3],\n",
    "     [1,-2,4],\n",
    "     [3,-1,2]])\n",
    "b = np.array([2,-2,2])"
   ]
  },
  {
   "cell_type": "markdown",
   "metadata": {
    "id": "ejailJ8pCqjw"
   },
   "source": [
    "2. Сгенерировать вектор c(3) и плохо обусловленную матрицу D(3,3)"
   ]
  },
  {
   "cell_type": "code",
   "execution_count": 11,
   "metadata": {
    "id": "bUGLn_t6ezGI"
   },
   "outputs": [],
   "source": [
    "d = np.array([[0.1,0,14],\n",
    "     [8,-1.3,26],\n",
    "     [80,15,1]])\n",
    "c = np.array([7,3,-11])"
   ]
  },
  {
   "cell_type": "markdown",
   "metadata": {
    "id": "C-Dor8MWDJ9Y"
   },
   "source": [
    "3. Проверить обусловленность матриц"
   ]
  },
  {
   "cell_type": "code",
   "execution_count": 6,
   "metadata": {
    "colab": {
     "base_uri": "https://localhost:8080/"
    },
    "id": "wYEuh7_YCvq8",
    "outputId": "d35c5c2c-cdbe-4197-890f-4e5b0f1a1d30"
   },
   "outputs": [
    {
     "name": "stdout",
     "output_type": "stream",
     "text": [
      "Число обусловленности матрицы А = 4.689663771573529\n",
      "Число обусловленности матрицы D = 63.60908659660874\n",
      "Чем ближе число обусловленности к 1, тем ближе матрица к невырожденности или полному рангу\n"
     ]
    }
   ],
   "source": [
    "# функция np.linalg.cond вычисляет число обусловленности матрицы\n",
    "print('Число обусловленности матрицы А =', np.linalg.cond(a))\n",
    "print('Число обусловленности матрицы D =', np.linalg.cond(d))\n",
    "print ('Чем ближе число обусловленности к 1, тем ближе матрица к невырожденности или полному рангу')"
   ]
  },
  {
   "cell_type": "code",
   "execution_count": 8,
   "metadata": {
    "id": "AH4D-dG7zUS2"
   },
   "outputs": [],
   "source": [
    "# функция для вычисления погрешности вектора решений\n",
    "def error_b(b,error):\n",
    "  b_err = []\n",
    "  for i in range(len(b)):\n",
    "    b_err.append(b[i]+b[i]*error)\n",
    "  return b_err"
   ]
  },
  {
   "cell_type": "markdown",
   "metadata": {
    "id": "nfecSX6PEZdb"
   },
   "source": [
    "4. Решить СЛАУ Ах=b и Dх=c методом Крамера"
   ]
  },
  {
   "cell_type": "code",
   "execution_count": 9,
   "metadata": {
    "id": "EPK898CSEaEJ"
   },
   "outputs": [],
   "source": [
    "# функция решения уравнения методом Крамера\n",
    "def kramer_method(a,b):\n",
    "  len_a = len(a) # определяем размерность заданной матрицы\n",
    "  det_a = np.linalg.det(a) # вычисляем определитель с помощью встроенной функции\n",
    "  result = list() # список для последующего заполнения результатов\n",
    "  \n",
    "  # при условии неравенства определителя 0 выполним решение\n",
    "  if det_a != 0 : \n",
    "    \n",
    "    for i in range(len_a):\n",
    "      dm = np.copy(a) # вспомогательная матрица\n",
    "      dm[:,i] = b # замена столбца кэффициентов на вектор b\n",
    "      result.append(np.linalg.det(dm)/det_a) # заполнение результатов\n",
    "  \n",
    "  # в противном случае выводим сообщение об ошибке\n",
    "  else:\n",
    "    print(\"Определитель заданной матрицы равен 0. Метод Крамера не применим.\")\n",
    "  \n",
    "  # возвращаем результат\n",
    "  return result"
   ]
  },
  {
   "cell_type": "code",
   "execution_count": 13,
   "metadata": {
    "colab": {
     "base_uri": "https://localhost:8080/"
    },
    "id": "ylq_Zt9Iiyw1",
    "outputId": "86776657-a721-4146-f3ad-eafe8035947a"
   },
   "outputs": [
    {
     "name": "stdout",
     "output_type": "stream",
     "text": [
      "Решение для хорошо обусловленной матрицы: [1.1999999999999997, -0.8, -1.2000000000000002]\n",
      "Решение для плохо обусловленной матрицы: [-0.745688388598812, 3.209982982818135, 0.505326345632849]\n"
     ]
    }
   ],
   "source": [
    "res_a = kramer_method(a,b)\n",
    "res_d = kramer_method(d,c)\n",
    "print('Решение для хорошо обусловленной матрицы:',res_a)\n",
    "print('Решение для плохо обусловленной матрицы:',res_d)"
   ]
  },
  {
   "cell_type": "code",
   "execution_count": 15,
   "metadata": {
    "colab": {
     "base_uri": "https://localhost:8080/"
    },
    "id": "1q2ikwc_0ZOo",
    "outputId": "e52c1d9a-7c15-4dbf-d040-c54b7b9f7c9c"
   },
   "outputs": [
    {
     "name": "stdout",
     "output_type": "stream",
     "text": [
      "Решение для хорошо обусловленной матрицы с погрешностью: [1.1999999999999997, -0.8, -1.2000000000000002]\n",
      "Решение для плохо обусловленной матрицыс погрешностью: [-0.7531452724847991, 3.2420828126463186, 0.5103796090891773]\n"
     ]
    }
   ],
   "source": [
    "# решим с погрешностью\n",
    "b_er = error_b(b,0.01)\n",
    "c_er = error_b(c,0.01)\n",
    "res_a1 = kramer_method(a,b_er)\n",
    "res_d1 = kramer_method(d,c_er)\n",
    "print('Решение для хорошо обусловленной матрицы с погрешностью:',res_a1)\n",
    "print('Решение для плохо обусловленной матрицыс погрешностью:',res_d1)"
   ]
  },
  {
   "cell_type": "markdown",
   "metadata": {
    "id": "dCjLlUKJkohd"
   },
   "source": [
    "Проверка подстановкой."
   ]
  },
  {
   "cell_type": "code",
   "execution_count": null,
   "metadata": {
    "colab": {
     "base_uri": "https://localhost:8080/"
    },
    "id": "-WUNerPQjrL-",
    "outputId": "9576a63a-736c-44a3-9f3f-9bb697468292"
   },
   "outputs": [
    {
     "name": "stdout",
     "output_type": "stream",
     "text": [
      "Подстановка: b = [ 2. -2.  2.] \t\n",
      "Исходный: b = [ 2 -2  2]\n",
      "Подстановка: c = [  7.   3. -11.] \t\n",
      "Исходный: c = [  7   3 -11]\n"
     ]
    }
   ],
   "source": [
    "# используем встроенную функцию библиотеки numpy для умножения матриц\n",
    "b_check = np.matmul(a,res_a)\n",
    "c_check = np.matmul(d,res_d)\n",
    "print(\"Подстановка: b =\", b_check, \"\\t\\nИсходный: b =\", b)\n",
    "print(\"Подстановка: c =\", c_check, \"\\t\\nИсходный: c =\", c)"
   ]
  },
  {
   "cell_type": "markdown",
   "metadata": {
    "id": "3vJosiMqmWjE"
   },
   "source": [
    "Проверка встроенной функцией solve"
   ]
  },
  {
   "cell_type": "code",
   "execution_count": null,
   "metadata": {
    "colab": {
     "base_uri": "https://localhost:8080/"
    },
    "id": "gGeam7MTmch4",
    "outputId": "2014c8a1-22e7-4810-844f-c30e25393375"
   },
   "outputs": [
    {
     "name": "stdout",
     "output_type": "stream",
     "text": [
      "Решение для хорошо обусловленной матрицы: [ 1.2 -0.8 -1.2]\n",
      "Решение для плохо обусловленной матрицы: [-0.74568839  3.20998298  0.50532635]\n"
     ]
    }
   ],
   "source": [
    "print('Решение для хорошо обусловленной матрицы:',np.linalg.solve(a,b))\n",
    "print('Решение для плохо обусловленной матрицы:',np.linalg.solve(d,c))"
   ]
  },
  {
   "cell_type": "markdown",
   "metadata": {
    "id": "mRC8mrLZyP2N"
   },
   "source": [
    "## Трехдиагональная матррица"
   ]
  },
  {
   "cell_type": "code",
   "execution_count": 17,
   "metadata": {
    "id": "srByc8l_yMLH"
   },
   "outputs": [],
   "source": [
    "td_matrix = np.array([[-10,-5,0,5,10],\n",
    "                     [3,2,10,0,-10],\n",
    "                     [-10,-5,6,7,2],\n",
    "                     [-7,3,10,5,0],\n",
    "                     [-17,-8,16,12,2]])\n",
    "b1 = np.array([23.75,35.,-11.25,-11.25,-22.5])"
   ]
  },
  {
   "cell_type": "code",
   "execution_count": null,
   "metadata": {
    "colab": {
     "base_uri": "https://localhost:8080/"
    },
    "id": "PoxPwTgSn6or",
    "outputId": "1b7f5f33-102d-45b9-d7fc-40249b32ba35"
   },
   "outputs": [
    {
     "name": "stdout",
     "output_type": "stream",
     "text": [
      "Определитель заданной матрицы равен 0. Метод Крамера не применим.\n"
     ]
    },
    {
     "data": {
      "text/plain": [
       "[]"
      ]
     },
     "execution_count": 19,
     "metadata": {},
     "output_type": "execute_result"
    }
   ],
   "source": [
    "kramer_method(td_matrix,b1)"
   ]
  },
  {
   "cell_type": "code",
   "execution_count": 22,
   "metadata": {
    "id": "xjxqrWEIh_CG"
   },
   "outputs": [],
   "source": [
    "def progonka (upper,main,lower,b):\n",
    "  # подготовим пустые списки для дальнейшего заполнения \n",
    "  a_list = [] # прогоночный коэф. alpha\n",
    "  b_list = [] # прогоночный коэф. beta\n",
    "  x_list = [] # решение\n",
    "  # обратная прогонка\n",
    "  a_list.append(-upper[0]/main[0]) \n",
    "  b_list.append(b[0]/main[0]) \n",
    "  n = len(main) # размерность матрицы\n",
    "  for i in range(0,n-2):\n",
    "    a_list.append( -upper[i+1] / (lower[i]*a_list[i] + main[i+1])) \n",
    "    b_list.append((b[i+1]-lower[i]*b_list[i])/(lower[i]*a_list[i]+main[i+1])) \n",
    "\n",
    "  # прямая прогонка\n",
    "  # по формулам заполняем список\n",
    "  x_list.append((b[-1]-lower[-1]*b_list[-1])/(lower[-1]*a_list[-1]+main[-1]))\n",
    "  \n",
    "  for k in range(n-1,0,-1):\n",
    "    x_list.append(a_list[k-n]*x_list[k-n+1]+b_list[k-n])\n",
    "\n",
    "  x_list.reverse () # разворачиваем тк заполняли с конца\n",
    "\n",
    "  # вывод\n",
    "  print('Вектор решений:', x_list)\n",
    "  print('Прогоночные коэф. alpha:',a_list)\n",
    "  print('Прогоночные коэф. beta:',b_list)\n",
    "\n",
    "  return x_list\n"
   ]
  },
  {
   "cell_type": "code",
   "execution_count": 23,
   "metadata": {
    "colab": {
     "base_uri": "https://localhost:8080/"
    },
    "id": "53A3lLuCg7aB",
    "outputId": "bb5d70fe-f67d-43d7-9548-ae383cdc9172"
   },
   "outputs": [
    {
     "name": "stdout",
     "output_type": "stream",
     "text": [
      "Вектор решений: [3.377717391304347, 314.3586956521739, 4.627717391304348, -11.505434782608694, 57.78260869565216]\n",
      "Прогоночные коэф. alpha: [-0.5, -20.0, -0.0660377358490566, 0.0]\n",
      "Прогоночные коэф. beta: [-2.375, 84.25, 3.8679245283018866, -11.505434782608694]\n"
     ]
    }
   ],
   "source": [
    "# из исходной матрицы выделяем три диагонали\n",
    "upper=np.diagonal(td_matrix, offset = 1) \n",
    "main=np.diagonal(td_matrix)\n",
    "lower=np.diagonal(td_matrix, offset = -1)\n",
    "x = progonka (upper,main,lower,b1) # применяем ыункцию метода прогонки"
   ]
  },
  {
   "cell_type": "code",
   "execution_count": 24,
   "metadata": {
    "colab": {
     "base_uri": "https://localhost:8080/"
    },
    "id": "C_FB8Rta1Nqn",
    "outputId": "86c075f9-f468-4fe4-f53e-d03b9271b1da"
   },
   "outputs": [
    {
     "name": "stdout",
     "output_type": "stream",
     "text": [
      "Вектор решений: [3.411494565217391, 317.5022826086956, 4.6739945652173915, -11.620489130434782, 58.36043478260869]\n",
      "Прогоночные коэф. alpha: [-0.5, -20.0, -0.0660377358490566, 0.0]\n",
      "Прогоночные коэф. beta: [-2.39875, 85.0925, 3.9066037735849055, -11.620489130434782]\n"
     ]
    }
   ],
   "source": [
    "# с погрешностью вектора решений\n",
    "b_tr_er = error_b(b1,0.01)\n",
    "res_err_tr = progonka(upper,main,lower,b_tr_er)"
   ]
  }
 ],
 "metadata": {
  "colab": {
   "provenance": []
  },
  "kernelspec": {
   "display_name": "Python 3 (ipykernel)",
   "language": "python",
   "name": "python3"
  },
  "language_info": {
   "codemirror_mode": {
    "name": "ipython",
    "version": 3
   },
   "file_extension": ".py",
   "mimetype": "text/x-python",
   "name": "python",
   "nbconvert_exporter": "python",
   "pygments_lexer": "ipython3",
   "version": "3.9.12"
  }
 },
 "nbformat": 4,
 "nbformat_minor": 1
}
