{
 "cells": [
  {
   "cell_type": "markdown",
   "metadata": {
    "id": "ZnRSG07Wza-R"
   },
   "source": [
    "Балансовая модель Леонтьева"
   ]
  },
  {
   "cell_type": "code",
   "execution_count": 5,
   "metadata": {
    "id": "p3Ixs3tbzGJc"
   },
   "outputs": [],
   "source": [
    "# импортируем библиотеки\n",
    "import numpy as np # работа с массивами\n",
    "from tabulate import tabulate # оформление таблиц"
   ]
  },
  {
   "cell_type": "code",
   "execution_count": 6,
   "metadata": {
    "id": "tnL3OKqmzvrT"
   },
   "outputs": [],
   "source": [
    "# исходные данные\n",
    "a = np.asarray([[0.2, 0.3, 0.1],[0, 0.3, 0.1],[0.4, 0.1, 0.2]])# матрица А коэффициентов прямых затрат\n",
    "n = len(a) # размерность матрицы А\n",
    "e = np.asarray(np.eye(n)) # единичная матрица\n",
    "y = np.asarray([1000, 600, 700]) # вектор объемов конечной продукции\n",
    "d1 = e - a # матрица E-A "
   ]
  },
  {
   "cell_type": "code",
   "execution_count": 7,
   "metadata": {
    "colab": {
     "base_uri": "https://localhost:8080/"
    },
    "id": "PvxSbRcd1n19",
    "outputId": "7a93a3a9-dae3-420f-83f1-ff3b3ac95773"
   },
   "outputs": [
    {
     "name": "stdout",
     "output_type": "stream",
     "text": [
      "Условие выполнено\n"
     ]
    }
   ],
   "source": [
    "# проверка условий Хоукинса-Саймона\n",
    "# функция для удаления строк и столбцов\n",
    "def del_row_col (matrix, idx_row, idx_col):\n",
    "  # удаляем строку\n",
    "  matrix = np.delete(matrix, idx_row, 0)\n",
    "  # удаляем столбец\n",
    "  matrix = np.delete(matrix, idx_col, 1)\n",
    "  return(matrix)\n",
    "# копируем матрицу \n",
    "d12 = d1.copy()\n",
    "d13 = d1.copy()\n",
    "# удалим столбцы для поиска угловых миноров\n",
    "d12 = del_row_col(d12, 2, 2)\n",
    "d13 = del_row_col(d13, 1, 1)\n",
    "# ищем определитель и угловые миноры\n",
    "det_d1 = np.linalg.det(d1)\n",
    "det_d12 = np.linalg.det(d12)\n",
    "det_d13 = np.linalg.det(d13)\n",
    "print ('Условие выполнено') if det_d1 > 0 and det_d12 > 0 and det_d13 > 0  else print ('Условие не выполнено')"
   ]
  },
  {
   "cell_type": "code",
   "execution_count": 8,
   "metadata": {
    "colab": {
     "base_uri": "https://localhost:8080/"
    },
    "id": "42K9cjps1-CG",
    "outputId": "d6dbe532-7ea4-4422-9377-b61aa3bd0066"
   },
   "outputs": [
    {
     "name": "stdout",
     "output_type": "stream",
     "text": [
      "---------------  ----  ----  ----  ----------------  ---------------\n",
      "                    1     2     3  Конечный продукт  Валовый продукт\n",
      "1                 385   342   198  1000              1925.0\n",
      "2                   0   342   198  600               1140.0\n",
      "3                 770   114   396  700               1980.0\n",
      "Общий доход       770   342  1188\n",
      "Валовый продукт  1925  1140  1980\n",
      "---------------  ----  ----  ----  ----------------  ---------------\n"
     ]
    }
   ],
   "source": [
    "# матрица D=(E-A)-1\n",
    "d = np.linalg.inv(d1)\n",
    "# находим X=D*Y\n",
    "x = np.asarray(d.dot(y)).reshape(3, 1)\n",
    "# Составляем матрицу потоков средств производства В\n",
    "b = np.copy(a)\n",
    "for i in range(0,n):\n",
    "    for j in range(0,n):\n",
    "        b[i][j]=b[i][j]*x[j] \n",
    "# Найдем Р\n",
    "sum_b = np.asarray(np.sum(b, axis=0)).reshape(3, 1) \n",
    "p = x - sum_b\n",
    "# Таблица межотраслевого баланса\n",
    "tbl = tabulate([[' ', '1', '2', '3', 'Конечный продукт', 'Валовый продукт'],\n",
    "                ['1', b[0][0], b[0][1], b[0][2], y[0], round((b[0][0]+b[0][1]+b[0][2]+y[0]),2)],\n",
    "                ['2', b[1][0], b[1][1], b[1][2], y[1], round((b[1][0]+b[1][1]+b[1][2]+y[1]),2)],\n",
    "                ['3', b[2][0], b[2][1], b[2][2], y[2], round((b[2][0]+b[2][1]+b[2][2]+y[2]),2)],\n",
    "                ['Общий доход', p[0], p[1],p[2],' ', ' '],\n",
    "                ['Валовый продукт',b[0][0]+b[1][0]+b[2][0]+p[0], b[0][1]+b[1][1]+b[2][1]+p[1], b[0][2]+b[1][2]+b[2][2]+p[2],' ', ' ']])\n",
    "print(tbl)"
   ]
  },
  {
   "cell_type": "code",
   "execution_count": null,
   "metadata": {},
   "outputs": [],
   "source": []
  }
 ],
 "metadata": {
  "colab": {
   "provenance": []
  },
  "kernelspec": {
   "display_name": "Python 3 (ipykernel)",
   "language": "python",
   "name": "python3"
  },
  "language_info": {
   "codemirror_mode": {
    "name": "ipython",
    "version": 3
   },
   "file_extension": ".py",
   "mimetype": "text/x-python",
   "name": "python",
   "nbconvert_exporter": "python",
   "pygments_lexer": "ipython3",
   "version": "3.9.12"
  }
 },
 "nbformat": 4,
 "nbformat_minor": 1
}
