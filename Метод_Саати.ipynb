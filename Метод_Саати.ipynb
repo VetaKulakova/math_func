{
  "nbformat": 4,
  "nbformat_minor": 0,
  "metadata": {
    "colab": {
      "provenance": []
    },
    "kernelspec": {
      "name": "python3",
      "display_name": "Python 3"
    },
    "language_info": {
      "name": "python"
    }
  },
  "cells": [
    {
      "cell_type": "markdown",
      "source": [
        "Метод Саати"
      ],
      "metadata": {
        "id": "pyy83TwzNcZ4"
      }
    },
    {
      "cell_type": "code",
      "source": [
        "# импорт библиотек\n",
        "from tabulate import tabulate # для вывода таблиц\n",
        "import numpy as np # для работы с массивами\n",
        "from scipy.stats import gmean # геометрическое среднее"
      ],
      "metadata": {
        "id": "SDxff6IxQ-vk"
      },
      "execution_count": 2,
      "outputs": []
    },
    {
      "cell_type": "code",
      "source": [
        "# заполнение информации о шкале Саати\n",
        "saati_scale = tabulate([[\"1\", \"Равноценность\"], \n",
        "                             [\"3\", \"Умеренное превосходство\"],\n",
        "                             [\"5\", \"Cильное превосходство\"],\n",
        "                             [\"7\", \"Очень сильное превосходство\"],\n",
        "                             [\"9\", \"Высшее(крайнее превосходство)\"],\n",
        "                             [\"2,4,6,8\", \"Промежуточные оценки\"]], headers=['Интенсивность\\nотносительной\\nважности(в баллах)', 'Название'], tablefmt = 'orgtbl')\n",
        "# характеристики\n",
        "h1 = 'Цена'\n",
        "h2 = 'Продолжительность'\n",
        "h3 = 'Рейтинг школы'\n",
        "h4 = 'Процент трудоустройства студентов'\n",
        "print (saati_scale)"
      ],
      "metadata": {
        "colab": {
          "base_uri": "https://localhost:8080/"
        },
        "id": "w0ekaJb-NeXf",
        "outputId": "c57ed64e-64d6-4f74-daa2-72b2a1d5b446"
      },
      "execution_count": 3,
      "outputs": [
        {
          "output_type": "stream",
          "name": "stdout",
          "text": [
            "| Интенсивность        | Название                      |\n",
            "| относительной        |                               |\n",
            "| важности(в баллах)   |                               |\n",
            "|----------------------+-------------------------------|\n",
            "| 1                    | Равноценность                 |\n",
            "| 3                    | Умеренное превосходство       |\n",
            "| 5                    | Cильное превосходство         |\n",
            "| 7                    | Очень сильное превосходство   |\n",
            "| 9                    | Высшее(крайнее превосходство) |\n",
            "| 2,4,6,8              | Промежуточные оценки          |\n"
          ]
        }
      ]
    },
    {
      "cell_type": "code",
      "source": [
        "# функция для вывода вектора весов\n",
        "def saati_char(matrix):\n",
        "    \n",
        "    #поиск собственных чисел и векторов\n",
        "    w,v = list(np.linalg.eigh(matrix)) # функция поиска собственных чисел и векторов\n",
        "    max_w = float(max(w)) # макс собственное число\n",
        "    max_w_pos = np.where(max(w)) # положение макc числа\n",
        "    list_pos = list(map(int, max_w_pos)) \n",
        "    pos = list_pos[0]\n",
        "    max_v = np.abs(list(map(float, v[pos]))) # соотв собственный вектор\n",
        "    \n",
        "    return max_v"
      ],
      "metadata": {
        "id": "wJkLu_XzRhcL"
      },
      "execution_count": 4,
      "outputs": []
    },
    {
      "cell_type": "code",
      "source": [
        "# заполнение матрицы попарных сравнений для 4-х качеств\n",
        "m_compar = np.asarray([[1, 5, 5, 1], [1/5, 1, 7, 1], [1/5, 1/7, 1, 3], [1, 1, 1/3, 1]]).reshape(4, 4)\n",
        "vc = saati_char(m_compar)\n",
        "# нормирование вектора\n",
        "sum_v = np.sum(vc) # сумма элементов вектора\n",
        "for i in range(len(vc)):\n",
        "  vc[i] = vc[i]/sum_v\n",
        "vec_char = np.round(np.array(vc),4) \n",
        "print (vec_char)"
      ],
      "metadata": {
        "colab": {
          "base_uri": "https://localhost:8080/"
        },
        "id": "R6BOvtBWS0Q1",
        "outputId": "caf4deec-999c-4d3e-e204-facbcfe81707"
      },
      "execution_count": 8,
      "outputs": [
        {
          "output_type": "stream",
          "name": "stdout",
          "text": [
            "[0.268  0.4053 0.0431 0.2835]\n"
          ]
        }
      ]
    },
    {
      "cell_type": "code",
      "source": [
        "# Показатель характеристики Цена\n",
        "m_compar1 = np.asarray([[1, 1/4, 1/2], [4, 1, 6], [2, 1/6, 1]]).reshape(3, 3)\n",
        "vc1 = saati_char(m_compar1)\n",
        "# нормирование вектора\n",
        "sum_v1 = np.sum(vc1) # сумма элементов вектора\n",
        "for i in range(len(vc1)):\n",
        "  vc1[i] = vc1[i]/sum_v1\n",
        "vec_char1 = np.round(np.array(vc1),4) \n",
        "print ('Цена:',vec_char1)\n",
        "\n",
        "# Показатель характеристики Продолжительность\n",
        "m_compar2 = np.asarray([[1, 3, 1/3], [1/3, 1, 1], [3, 1, 1]]).reshape(3, 3)\n",
        "vc2 = saati_char(m_compar2)\n",
        "# нормирование вектора\n",
        "sum_v2 = np.sum(vc2) # сумма элементов вектора\n",
        "for i in range(len(vc2)):\n",
        "  vc2[i] = vc2[i]/sum_v2\n",
        "vec_char2 = np.round(np.array(vc2),4) \n",
        "print ('Продолжительность:',vec_char2)\n",
        "\n",
        "# Показатель характеристики Рейтинг школы\n",
        "m_compar3 = np.asarray([[1, 1/4, 1/5], [4, 1, 1/2], [5, 2, 1]]).reshape(3, 3)\n",
        "vc3 = saati_char(m_compar3)\n",
        "# нормирование вектора\n",
        "sum_v3 = np.sum(vc3) # сумма элементов вектора\n",
        "for i in range(len(vc3)):\n",
        "  vc3[i] = vc3[i]/sum_v3\n",
        "vec_char3 = np.round(np.array(vc3),4) \n",
        "print ('Рейтинг школы:',vec_char3)\n",
        "\n",
        "# Показатель характеристики Процент трудоустройства студентов\n",
        "m_compar4 = np.asarray([[1, 7, 9], [1/7, 1, 5], [1/9, 1/5, 1]]).reshape(3, 3)\n",
        "vc4 = saati_char(m_compar4)\n",
        "# нормирование вектора\n",
        "sum_v4 = np.sum(vc4) # сумма элементов вектора\n",
        "for i in range(len(vc4)):\n",
        "  vc4[i] = vc4[i]/sum_v4\n",
        "vec_char4 = np.round(np.array(vc4),4) \n",
        "print ('Процент трудоустройства студентов:',vec_char4)"
      ],
      "metadata": {
        "colab": {
          "base_uri": "https://localhost:8080/"
        },
        "id": "m2859LPNT16K",
        "outputId": "065ce676-2c85-4c8f-e393-29723e1222c7"
      },
      "execution_count": 11,
      "outputs": [
        {
          "output_type": "stream",
          "name": "stdout",
          "text": [
            "Цена: [0.4959 0.0156 0.4885]\n",
            "Продолжительность: [0.4113 0.1874 0.4013]\n",
            "Рейтинг школы: [0.5068 0.0562 0.437 ]\n",
            "Процент трудоустройства студентов: [0.116  0.5519 0.3321]\n"
          ]
        }
      ]
    },
    {
      "cell_type": "code",
      "source": [
        "# Обобщенная оценка\n",
        "# веса характеристик\n",
        "average = 0 # пустое значение среднего для дальнейшей работы в цикле\n",
        "vecs = [vec_char1, vec_char2, vec_char3, vec_char4] # массив вкторов для перебора в цикле\n",
        "# цикл рассчета среднего\n",
        "for i in range(len(vec_char)):\n",
        "  average += vec_char[i]*vecs[i]\n",
        "average = np.abs(list(average.astype(float))) # приведение к нужному типу\n",
        "tot = max(average) # максимальное значение  \n",
        "ix = list(average).index(tot) # индекс максимального значения\n",
        "# Вывод результатов \n",
        "if ix == 0:\n",
        "    print ('Выбираем курс от Skillbox')\n",
        "elif ix == 1:\n",
        "    print ('Выбираем курс от Нетологии')\n",
        "elif ix == 2:\n",
        "    print ('Выбираем курс от ЯндексПрактикума')"
      ],
      "metadata": {
        "colab": {
          "base_uri": "https://localhost:8080/"
        },
        "id": "Ru7iVUPgXW5i",
        "outputId": "e6ee8d86-f24b-4d91-c0ee-1b13371deafb"
      },
      "execution_count": 13,
      "outputs": [
        {
          "output_type": "stream",
          "name": "stdout",
          "text": [
            "Выбираем курс от ЯндексПрактикума\n"
          ]
        }
      ]
    }
  ]
}